{
 "cells": [
  {
   "cell_type": "code",
   "execution_count": 2,
   "id": "764c56f7",
   "metadata": {},
   "outputs": [
    {
     "data": {
      "text/plain": [
       "{'1001': {'name': 'Choco Cake', 'pr': 50, 'qn': 14},\n",
       " '1002': {'name': 'Milk Cake', 'pr': 800, 'qn': 100},\n",
       " '1003': {'name': 'Drink', 'pr': 85, 'qn': 100},\n",
       " '1004': {'name': 'Candy', 'pr': 5, 'qn': 1000},\n",
       " '1005': {'name': 'Pen', 'pr': 20, 'qn': 100},\n",
       " '1006': {'name': 'Phone', 'pr': 50000, 'qn': 10},\n",
       " '1007': {'name': 'Mic', 'pr': 1500, 'qn': 0},\n",
       " '1008': {'name': 'Case', 'pr': 599, 'qn': 5},\n",
       " '1009': {'name': 'Keyboard', 'pr': 1999, 'qn': 10},\n",
       " '1010': {'name': 'Sanitizer', 'qn': 34, 'pr': 100},\n",
       " '1011': {'name': 'Mask N95', 'pr': 800, 'qn': 100},\n",
       " '1012': {'name': 'Mask Surgical', 'pr': 85, 'qn': 100},\n",
       " '1013': {'name': 'Cotton Candy', 'pr': 5, 'qn': 1000},\n",
       " '1014': {'name': 'Mustard Oil', 'pr': 20, 'qn': 100},\n",
       " '1015': {'name': 'Wires', 'pr': 50000, 'qn': 10},\n",
       " '1016': {'name': 'Mobile Case', 'pr': 1500, 'qn': 0},\n",
       " '1017': {'name': 'Pencil', 'pr': 599, 'qn': 5},\n",
       " '1018': {'name': 'Eraser', 'pr': 1999, 'qn': 10},\n",
       " '1019': {'name': 'Water Bottle', 'qn': 34, 'pr': 100},\n",
       " '1020': {'name': 'Chocolate', 'pr': 800, 'qn': 100},\n",
       " '1021': {'name': 'Wafers', 'pr': 85, 'qn': 100},\n",
       " '1022': {'name': 'Biscuits', 'pr': 5, 'qn': 1000},\n",
       " '1023': {'name': 'Horlicks', 'pr': 20, 'qn': 100},\n",
       " '1024': {'name': 'Television', 'pr': 50000, 'qn': 10},\n",
       " '1025': {'name': 'Speaker', 'pr': 1500, 'qn': 0},\n",
       " '1026': {'name': 'Charger', 'pr': 599, 'qn': 5},\n",
       " '1027': {'name': 'Mirror', 'pr': 1999, 'qn': 10},\n",
       " '1028': {'name': 'Medicine', 'qn': 34, 'pr': 100},\n",
       " '1029': {'name': 'Mouth freshner', 'pr': 800, 'qn': 100},\n",
       " '1030': {'name': 'Lemonade', 'pr': 85, 'qn': 100},\n",
       " '1031': {'name': 'Dog Food', 'pr': 5, 'qn': 1000},\n",
       " '1032': {'name': 'Chips', 'pr': 20, 'qn': 100}}"
      ]
     },
     "execution_count": 2,
     "metadata": {},
     "output_type": "execute_result"
    }
   ],
   "source": [
    "import json\n",
    "f = open(\"records.json\",\"r\")\n",
    "r = f.read()\n",
    "j = json.loads(r)\n",
    "j"
   ]
  },
  {
   "cell_type": "markdown",
   "id": "49e02118",
   "metadata": {},
   "source": [
    "### Records of the Json file"
   ]
  },
  {
   "cell_type": "code",
   "execution_count": 15,
   "id": "8f1aaadd",
   "metadata": {},
   "outputs": [
    {
     "name": "stdout",
     "output_type": "stream",
     "text": [
      "Product Id:     Product Name\n",
      "1001\t  \tChoco Cake\n",
      "\n",
      "1002\t  \tMilk Cake\n",
      "\n",
      "1003\t  \tDrink\n",
      "\n",
      "1004\t  \tCandy\n",
      "\n",
      "1005\t  \tPen\n",
      "\n",
      "1006\t  \tPhone\n",
      "\n",
      "1007\t  \tMic\n",
      "\n",
      "1008\t  \tCase\n",
      "\n",
      "1009\t  \tKeyboard\n",
      "\n",
      "1010\t  \tSanitizer\n",
      "\n",
      "1011\t  \tMask N95\n",
      "\n",
      "1012\t  \tMask Surgical\n",
      "\n",
      "1013\t  \tCotton Candy\n",
      "\n",
      "1014\t  \tMustard Oil\n",
      "\n",
      "1015\t  \tWires\n",
      "\n",
      "1016\t  \tMobile Case\n",
      "\n",
      "1017\t  \tPencil\n",
      "\n",
      "1018\t  \tEraser\n",
      "\n",
      "1019\t  \tWater Bottle\n",
      "\n",
      "1020\t  \tChocolate\n",
      "\n",
      "1021\t  \tWafers\n",
      "\n",
      "1022\t  \tBiscuits\n",
      "\n",
      "1023\t  \tHorlicks\n",
      "\n",
      "1024\t  \tTelevision\n",
      "\n",
      "1025\t  \tSpeaker\n",
      "\n",
      "1026\t  \tCharger\n",
      "\n",
      "1027\t  \tMirror\n",
      "\n",
      "1028\t  \tMedicine\n",
      "\n",
      "1029\t  \tMouth freshner\n",
      "\n",
      "1030\t  \tLemonade\n",
      "\n",
      "1031\t  \tDog Food\n",
      "\n",
      "1032\t  \tChips\n",
      "\n"
     ]
    }
   ],
   "source": [
    "print(\"Product Id: \"+\"    Product Name\");\n",
    "for i in j.keys():\n",
    "    print(str(i)+\"\\t  \\t\"+j[i]['name']+\"\\n\")"
   ]
  },
  {
   "cell_type": "markdown",
   "id": "318bbaaa",
   "metadata": {},
   "source": [
    "### PRODUCT ID WITH PRODUCT NAMES"
   ]
  },
  {
   "cell_type": "markdown",
   "id": "ba5895c8",
   "metadata": {},
   "source": [
    "PURCHASING THE PRODUCT IF AVAILABLE"
   ]
  },
  {
   "cell_type": "code",
   "execution_count": null,
   "id": "cdbd1dcb",
   "metadata": {},
   "outputs": [],
   "source": [
    "b = input(\"Enter Product ID: \")\n",
    "a = int(input(\"ENTER QUANTITY OF PRODUCTS TO BE PURCHASED: \"))\n",
    "sales={}\n",
    "if(j[b]['qn'] < a ):\n",
    "    print(\"Sufficient Stock is not available\")\n",
    "elif(j[b]['qn']>=a):\n",
    "    j[b]['qn'] = j[b]['qn'] - a\n",
    "    p = j[b]['pr']\n",
    "    sales={b:{\"name\":j[b]['name'],\"price\":p,\"quantity\":a,\"total_amount\":p*a}}\n",
    "    l = list(sales)\n",
    "    print(\"You have successfully purchased \"+str(a)+\" units of \"+j[b]['name'])\n",
    "    print(\"Your bill is \"+str(p*a)+\" Rupees\")\n",
    "    sa = json.dumps(sales)\n",
    "    f= open(\"sales.json\",\"w\")\n",
    "    f.write(sa)\n",
    "    f.close()\n",
    "    q = json.dumps(j)\n",
    "    f= open(\"records.json\",\"w\")\n",
    "    f.write(q)\n",
    "    f.close()"
   ]
  },
  {
   "cell_type": "code",
   "execution_count": 59,
   "id": "5f5aba7b",
   "metadata": {},
   "outputs": [
    {
     "ename": "KeyboardInterrupt",
     "evalue": "Interrupted by user",
     "output_type": "error",
     "traceback": [
      "\u001b[0;31m---------------------------------------------------------------------------\u001b[0m",
      "\u001b[0;31mKeyboardInterrupt\u001b[0m                         Traceback (most recent call last)",
      "\u001b[0;32m<ipython-input-59-32c6a30863e4>\u001b[0m in \u001b[0;36m<module>\u001b[0;34m\u001b[0m\n\u001b[1;32m      4\u001b[0m \u001b[0mlist3\u001b[0m\u001b[0;34m=\u001b[0m\u001b[0mjson\u001b[0m\u001b[0;34m.\u001b[0m\u001b[0mloads\u001b[0m\u001b[0;34m(\u001b[0m\u001b[0mt\u001b[0m\u001b[0;34m)\u001b[0m\u001b[0;34m\u001b[0m\u001b[0;34m\u001b[0m\u001b[0m\n\u001b[1;32m      5\u001b[0m \u001b[0;34m\u001b[0m\u001b[0m\n\u001b[0;32m----> 6\u001b[0;31m \u001b[0mn\u001b[0m\u001b[0;34m=\u001b[0m\u001b[0minput\u001b[0m\u001b[0;34m(\u001b[0m\u001b[0;34m\"enter the product id: \"\u001b[0m\u001b[0;34m)\u001b[0m\u001b[0;34m\u001b[0m\u001b[0;34m\u001b[0m\u001b[0m\n\u001b[0m\u001b[1;32m      7\u001b[0m \u001b[0;32mif\u001b[0m \u001b[0mn\u001b[0m \u001b[0;32min\u001b[0m \u001b[0mlist3\u001b[0m\u001b[0;34m:\u001b[0m\u001b[0;34m\u001b[0m\u001b[0;34m\u001b[0m\u001b[0m\n\u001b[1;32m      8\u001b[0m   \u001b[0mm\u001b[0m\u001b[0;34m=\u001b[0m\u001b[0mint\u001b[0m\u001b[0;34m(\u001b[0m\u001b[0minput\u001b[0m\u001b[0;34m(\u001b[0m\u001b[0;34m\"enter the quantity: \"\u001b[0m\u001b[0;34m)\u001b[0m\u001b[0;34m)\u001b[0m\u001b[0;34m\u001b[0m\u001b[0;34m\u001b[0m\u001b[0m\n",
      "\u001b[0;32m/media/deepak1606/drive/anaconda1/lib/python3.8/site-packages/ipykernel/kernelbase.py\u001b[0m in \u001b[0;36mraw_input\u001b[0;34m(self, prompt)\u001b[0m\n\u001b[1;32m    858\u001b[0m                 \u001b[0;34m\"raw_input was called, but this frontend does not support input requests.\"\u001b[0m\u001b[0;34m\u001b[0m\u001b[0;34m\u001b[0m\u001b[0m\n\u001b[1;32m    859\u001b[0m             )\n\u001b[0;32m--> 860\u001b[0;31m         return self._input_request(str(prompt),\n\u001b[0m\u001b[1;32m    861\u001b[0m             \u001b[0mself\u001b[0m\u001b[0;34m.\u001b[0m\u001b[0m_parent_ident\u001b[0m\u001b[0;34m,\u001b[0m\u001b[0;34m\u001b[0m\u001b[0;34m\u001b[0m\u001b[0m\n\u001b[1;32m    862\u001b[0m             \u001b[0mself\u001b[0m\u001b[0;34m.\u001b[0m\u001b[0m_parent_header\u001b[0m\u001b[0;34m,\u001b[0m\u001b[0;34m\u001b[0m\u001b[0;34m\u001b[0m\u001b[0m\n",
      "\u001b[0;32m/media/deepak1606/drive/anaconda1/lib/python3.8/site-packages/ipykernel/kernelbase.py\u001b[0m in \u001b[0;36m_input_request\u001b[0;34m(self, prompt, ident, parent, password)\u001b[0m\n\u001b[1;32m    902\u001b[0m             \u001b[0;32mexcept\u001b[0m \u001b[0mKeyboardInterrupt\u001b[0m\u001b[0;34m:\u001b[0m\u001b[0;34m\u001b[0m\u001b[0;34m\u001b[0m\u001b[0m\n\u001b[1;32m    903\u001b[0m                 \u001b[0;31m# re-raise KeyboardInterrupt, to truncate traceback\u001b[0m\u001b[0;34m\u001b[0m\u001b[0;34m\u001b[0m\u001b[0;34m\u001b[0m\u001b[0m\n\u001b[0;32m--> 904\u001b[0;31m                 \u001b[0;32mraise\u001b[0m \u001b[0mKeyboardInterrupt\u001b[0m\u001b[0;34m(\u001b[0m\u001b[0;34m\"Interrupted by user\"\u001b[0m\u001b[0;34m)\u001b[0m \u001b[0;32mfrom\u001b[0m \u001b[0;32mNone\u001b[0m\u001b[0;34m\u001b[0m\u001b[0;34m\u001b[0m\u001b[0m\n\u001b[0m\u001b[1;32m    905\u001b[0m             \u001b[0;32mexcept\u001b[0m \u001b[0mException\u001b[0m \u001b[0;32mas\u001b[0m \u001b[0me\u001b[0m\u001b[0;34m:\u001b[0m\u001b[0;34m\u001b[0m\u001b[0;34m\u001b[0m\u001b[0m\n\u001b[1;32m    906\u001b[0m                 \u001b[0mself\u001b[0m\u001b[0;34m.\u001b[0m\u001b[0mlog\u001b[0m\u001b[0;34m.\u001b[0m\u001b[0mwarning\u001b[0m\u001b[0;34m(\u001b[0m\u001b[0;34m\"Invalid Message:\"\u001b[0m\u001b[0;34m,\u001b[0m \u001b[0mexc_info\u001b[0m\u001b[0;34m=\u001b[0m\u001b[0;32mTrue\u001b[0m\u001b[0;34m)\u001b[0m\u001b[0;34m\u001b[0m\u001b[0;34m\u001b[0m\u001b[0m\n",
      "\u001b[0;31mKeyboardInterrupt\u001b[0m: Interrupted by user"
     ]
    }
   ],
   "source": [
    "x=open(\"records.json\",'r')\n",
    "t=x.read()\n",
    "x.close()\n",
    "list3=json.loads(t)\n",
    "\n",
    "n=input(\"enter the product id: \")\n",
    "if n in list3:\n",
    "  m=int(input(\"enter the quantity: \"))\n",
    "  k=list3[n]['qn']+m\n",
    "  list3[n]['qn']=k\n",
    "\n",
    "else:\n",
    "  p=input(\"enter name\")\n",
    "  m=int(input(\"enter the quantity:\" ))\n",
    "  o=int(input(\"enter price\"))\n",
    "  list3[n]={'name':p,'pr':o,'qn':m}\n",
    "\n",
    "\n",
    "ne=json.dumps(list3)\n",
    "x=open(\"records.json\",'w')\n",
    "x.write(ne)\n",
    "x.close()\n",
    "print(\"product added \")"
   ]
  },
  {
   "cell_type": "markdown",
   "id": "bec4de19",
   "metadata": {},
   "source": [
    "Product Addition in Inventory"
   ]
  },
  {
   "cell_type": "code",
   "execution_count": null,
   "id": "4b8919cb",
   "metadata": {},
   "outputs": [],
   "source": []
  }
 ],
 "metadata": {
  "kernelspec": {
   "display_name": "Python 3",
   "language": "python",
   "name": "python3"
  },
  "language_info": {
   "codemirror_mode": {
    "name": "ipython",
    "version": 3
   },
   "file_extension": ".py",
   "mimetype": "text/x-python",
   "name": "python",
   "nbconvert_exporter": "python",
   "pygments_lexer": "ipython3",
   "version": "3.8.8"
  }
 },
 "nbformat": 4,
 "nbformat_minor": 5
}
